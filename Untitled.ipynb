{
 "cells": [
  {
   "cell_type": "code",
   "execution_count": 1,
   "id": "aa4a83f3-0874-4e2e-a6cd-646ad73ac7a3",
   "metadata": {},
   "outputs": [],
   "source": [
    "from tradingview_ta import TA_Handler, Interval, Exchange\n",
    "import time"
   ]
  },
  {
   "cell_type": "code",
   "execution_count": 2,
   "id": "e36a2d10-e1cf-4147-aebc-9bc688484407",
   "metadata": {},
   "outputs": [],
   "source": [
    "output = TA_Handler(\n",
    "    symbol='BTCUSDT',\n",
    "    screener='Crypto',\n",
    "    exchange='Binance',\n",
    "    interval=Interval.INTERVAL_1_MINUTE\n",
    ")"
   ]
  },
  {
   "cell_type": "code",
   "execution_count": null,
   "id": "e12e0040-7c88-49d5-a415-c824bae622b5",
   "metadata": {},
   "outputs": [],
   "source": [
    "# for i in range(10):\n",
    "#     print(output.get_analysis().summary)\n",
    "#     time.sleep(60)"
   ]
  },
  {
   "cell_type": "code",
   "execution_count": 8,
   "id": "40f3cbd0-77c9-4d72-8d01-197be1d64666",
   "metadata": {},
   "outputs": [
    {
     "data": {
      "text/plain": [
       "{'RECOMMENDATION': 'NEUTRAL', 'BUY': 9, 'SELL': 8, 'NEUTRAL': 9}"
      ]
     },
     "execution_count": 8,
     "metadata": {},
     "output_type": "execute_result"
    }
   ],
   "source": [
    "output.get_analysis().summary"
   ]
  },
  {
   "cell_type": "code",
   "execution_count": null,
   "id": "77a30357-4553-4ac4-832f-7cb7b5cad35f",
   "metadata": {},
   "outputs": [],
   "source": []
  },
  {
   "cell_type": "code",
   "execution_count": null,
   "id": "dfa3d5b2-b4db-42f1-a0cc-fe19885f6d7e",
   "metadata": {},
   "outputs": [],
   "source": []
  }
 ],
 "metadata": {
  "kernelspec": {
   "display_name": "Python 3 (ipykernel)",
   "language": "python",
   "name": "python3"
  },
  "language_info": {
   "codemirror_mode": {
    "name": "ipython",
    "version": 3
   },
   "file_extension": ".py",
   "mimetype": "text/x-python",
   "name": "python",
   "nbconvert_exporter": "python",
   "pygments_lexer": "ipython3",
   "version": "3.10.1"
  }
 },
 "nbformat": 4,
 "nbformat_minor": 5
}
